{
 "cells": [
  {
   "cell_type": "markdown",
   "metadata": {},
   "source": [
    "# 1.3 python 语言基础"
   ]
  },
  {
   "cell_type": "code",
   "execution_count": 14,
   "metadata": {
    "collapsed": false
   },
   "outputs": [
    {
     "name": "stdout",
     "output_type": "stream",
     "text": [
      "False\n"
     ]
    }
   ],
   "source": [
    "print(3+5 == 60)"
   ]
  },
  {
   "cell_type": "markdown",
   "metadata": {},
   "source": [
    "## 1.3.1 常用数据类型"
   ]
  },
  {
   "cell_type": "markdown",
   "metadata": {},
   "source": [
    "### 1.字符串 （string）"
   ]
  },
  {
   "cell_type": "code",
   "execution_count": 15,
   "metadata": {
    "collapsed": false
   },
   "outputs": [
    {
     "name": "stdout",
     "output_type": "stream",
     "text": [
      "python programming: 95\n"
     ]
    }
   ],
   "source": [
    "course = 'python programming'\n",
    "score = 95\n",
    "print (course + ': ' + str(score))"
   ]
  },
  {
   "cell_type": "markdown",
   "metadata": {},
   "source": [
    "### 2.元组（tuple）和列表（list）"
   ]
  },
  {
   "cell_type": "code",
   "execution_count": 16,
   "metadata": {
    "collapsed": false
   },
   "outputs": [
    {
     "data": {
      "text/plain": [
       "('Lucy', ('Math', 90))"
      ]
     },
     "execution_count": 16,
     "metadata": {},
     "output_type": "execute_result"
    }
   ],
   "source": [
    "t =('Lucy', ('Math', 90))\n",
    "t"
   ]
  },
  {
   "cell_type": "code",
   "execution_count": 17,
   "metadata": {
    "collapsed": false
   },
   "outputs": [
    {
     "data": {
      "text/plain": [
       "90"
      ]
     },
     "execution_count": 17,
     "metadata": {},
     "output_type": "execute_result"
    }
   ],
   "source": [
    "t[1][1]"
   ]
  },
  {
   "cell_type": "code",
   "execution_count": 18,
   "metadata": {
    "collapsed": false
   },
   "outputs": [
    {
     "data": {
      "text/plain": [
       "[1, 'wang']"
      ]
     },
     "execution_count": 18,
     "metadata": {},
     "output_type": "execute_result"
    }
   ],
   "source": [
    "ls = []\n",
    "ls.append(1)\n",
    "ls.append('wang')\n",
    "ls"
   ]
  },
  {
   "cell_type": "code",
   "execution_count": 19,
   "metadata": {
    "collapsed": false
   },
   "outputs": [
    {
     "data": {
      "text/plain": [
       "[2, 'wang']"
      ]
     },
     "execution_count": 19,
     "metadata": {},
     "output_type": "execute_result"
    }
   ],
   "source": [
    "ls[0] = 2\n",
    "ls"
   ]
  },
  {
   "cell_type": "markdown",
   "metadata": {},
   "source": [
    "### 3.字典（dictionary）"
   ]
  },
  {
   "cell_type": "code",
   "execution_count": 20,
   "metadata": {
    "collapsed": false
   },
   "outputs": [
    {
     "data": {
      "text/plain": [
       "{'age': 8, 'hobby': ('bike', 'game'), 'name': 'Lucy'}"
      ]
     },
     "execution_count": 20,
     "metadata": {},
     "output_type": "execute_result"
    }
   ],
   "source": [
    "d = dict(name=\"Lucy\", age =  8, hobby = (\"bike\", \"game\"))\n",
    "d"
   ]
  },
  {
   "cell_type": "code",
   "execution_count": 21,
   "metadata": {
    "collapsed": false
   },
   "outputs": [
    {
     "data": {
      "text/plain": [
       "('bike', 'game')"
      ]
     },
     "execution_count": 21,
     "metadata": {},
     "output_type": "execute_result"
    }
   ],
   "source": [
    "d[\"hobby\"]"
   ]
  },
  {
   "cell_type": "code",
   "execution_count": 22,
   "metadata": {
    "collapsed": false
   },
   "outputs": [
    {
     "data": {
      "text/plain": [
       "{'age': 9, 'hobby': ('bike', 'game'), 'name': 'Lucy'}"
      ]
     },
     "execution_count": 22,
     "metadata": {},
     "output_type": "execute_result"
    }
   ],
   "source": [
    "d[\"age\"] = 9\n",
    "d"
   ]
  },
  {
   "cell_type": "code",
   "execution_count": 23,
   "metadata": {
    "collapsed": false
   },
   "outputs": [
    {
     "data": {
      "text/plain": [
       "{'age': 9, 'agender': 'F', 'hobby': ('bike', 'game'), 'name': 'Lucy'}"
      ]
     },
     "execution_count": 23,
     "metadata": {},
     "output_type": "execute_result"
    }
   ],
   "source": [
    "d[\"agender\"] = \"F\"\n",
    "d"
   ]
  },
  {
   "cell_type": "code",
   "execution_count": 24,
   "metadata": {
    "collapsed": false
   },
   "outputs": [],
   "source": [
    "del d['hobby']"
   ]
  },
  {
   "cell_type": "code",
   "execution_count": 25,
   "metadata": {
    "collapsed": false
   },
   "outputs": [
    {
     "data": {
      "text/plain": [
       "{'age': 9, 'agender': 'F', 'name': 'Lucy'}"
      ]
     },
     "execution_count": 25,
     "metadata": {},
     "output_type": "execute_result"
    }
   ],
   "source": [
    "d"
   ]
  },
  {
   "cell_type": "markdown",
   "metadata": {},
   "source": [
    "## 1.3.2 流程控制"
   ]
  },
  {
   "cell_type": "markdown",
   "metadata": {},
   "source": [
    "### 1.程序控制"
   ]
  },
  {
   "cell_type": "code",
   "execution_count": 26,
   "metadata": {
    "collapsed": false
   },
   "outputs": [
    {
     "name": "stdout",
     "output_type": "stream",
     "text": [
      "pi =  3.164\n"
     ]
    }
   ],
   "source": [
    "from random import random\n",
    "from math import sqrt\n",
    "DARTS = 1000\n",
    "hits = 0\n",
    "for i in range(1, DARTS):\n",
    "    x, y = random(), random()\n",
    "    distance = sqrt(x**2 + y**2)\n",
    "    if distance <=1.0:\n",
    "        hits +=1\n",
    "pi = 4 * (hits/DARTS)\n",
    "print(\"pi = \", pi)"
   ]
  },
  {
   "cell_type": "markdown",
   "metadata": {
    "collapsed": true
   },
   "source": [
    "### 2.注释"
   ]
  },
  {
   "cell_type": "code",
   "execution_count": 27,
   "metadata": {
    "collapsed": true
   },
   "outputs": [],
   "source": [
    "# this is a comment"
   ]
  },
  {
   "cell_type": "markdown",
   "metadata": {},
   "source": [
    "### 3.输入和输出语句"
   ]
  },
  {
   "cell_type": "code",
   "execution_count": 54,
   "metadata": {
    "collapsed": false,
    "scrolled": false
   },
   "outputs": [
    {
     "name": "stdout",
     "output_type": "stream",
     "text": [
      "姓名和年龄：chenbo, 20\n",
      "chenbo  20\n",
      "name:chenbo, age: 20\n"
     ]
    }
   ],
   "source": [
    "s = input(\"姓名和年龄：\")\n",
    "name, age = s.split(\",\")\n",
    "print(name, age)\n",
    "print (\"name:{}, age:{}\".format(name, age))"
   ]
  },
  {
   "cell_type": "markdown",
   "metadata": {},
   "source": [
    "### 4.分支结构"
   ]
  },
  {
   "cell_type": "code",
   "execution_count": 52,
   "metadata": {
    "collapsed": false
   },
   "outputs": [
    {
     "name": "stdout",
     "output_type": "stream",
     "text": [
      "please input a number:123\n",
      "65.2\n"
     ]
    }
   ],
   "source": [
    "t = int(input(\"please input a number:\"))\n",
    "if t>100:\n",
    "    s = 20 + 0.4 * (t-10)\n",
    "elif t>50:\n",
    "    s = 10 + 0.2 * (t-50)\n",
    "else:\n",
    "    s = 100\n",
    "print(s)"
   ]
  },
  {
   "cell_type": "markdown",
   "metadata": {},
   "source": [
    "### 5.循环结构"
   ]
  },
  {
   "cell_type": "markdown",
   "metadata": {},
   "source": [
    "* python提供两种循环语句，for和while"
   ]
  },
  {
   "cell_type": "code",
   "execution_count": 30,
   "metadata": {
    "collapsed": false
   },
   "outputs": [
    {
     "name": "stdout",
     "output_type": "stream",
     "text": [
      "9\n"
     ]
    }
   ],
   "source": [
    "# for 语句\n",
    "s = 0\n",
    "for i in [1, 3, 5, 7, 9]:\n",
    "    s =+ i\n",
    "print(s)"
   ]
  },
  {
   "cell_type": "code",
   "execution_count": 51,
   "metadata": {
    "collapsed": false
   },
   "outputs": [
    {
     "name": "stdout",
     "output_type": "stream",
     "text": [
      "Input a number(<enter> '' to quit):  123\n",
      "123\n",
      "Input a number(<enter> '' to quit): 56\n",
      "179\n",
      "Input a number(<enter> '' to quit): 566\n",
      "745\n",
      "Input a number(<enter> '' to quit): \n"
     ]
    }
   ],
   "source": [
    "# while 语句\n",
    "sum = 0\n",
    "x = input (\"Input a number(<enter> '' to quit):  \")\n",
    "while x !=  \"\":\n",
    "    sum = sum +eval(x)   \n",
    "    print(sum)                #eval() 函数用来执行一个字符串表达式，并返回表达式的值。\n",
    "    x = input (\"Input a number(<enter> '' to quit): \")"
   ]
  },
  {
   "cell_type": "markdown",
   "metadata": {},
   "source": [
    "## 1.3.3 函数和方法库"
   ]
  },
  {
   "cell_type": "markdown",
   "metadata": {},
   "source": [
    "### 1.python内置函数"
   ]
  },
  {
   "cell_type": "code",
   "execution_count": 32,
   "metadata": {
    "collapsed": false
   },
   "outputs": [
    {
     "data": {
      "text/plain": [
       "2.23606797749979"
      ]
     },
     "execution_count": 32,
     "metadata": {},
     "output_type": "execute_result"
    }
   ],
   "source": [
    "import math\n",
    "math.sqrt(5)"
   ]
  },
  {
   "cell_type": "code",
   "execution_count": 33,
   "metadata": {
    "collapsed": false
   },
   "outputs": [
    {
     "data": {
      "text/plain": [
       "2.23606797749979"
      ]
     },
     "execution_count": 33,
     "metadata": {},
     "output_type": "execute_result"
    }
   ],
   "source": [
    "from math import sqrt\n",
    "sqrt(5)"
   ]
  },
  {
   "cell_type": "code",
   "execution_count": 34,
   "metadata": {
    "collapsed": false
   },
   "outputs": [
    {
     "data": {
      "text/plain": [
       "2.23606797749979"
      ]
     },
     "execution_count": 34,
     "metadata": {},
     "output_type": "execute_result"
    }
   ],
   "source": [
    "from math import sqrt as sq\n",
    "sq(5)"
   ]
  },
  {
   "cell_type": "markdown",
   "metadata": {},
   "source": [
    "### 2.python自定义函数"
   ]
  },
  {
   "cell_type": "code",
   "execution_count": 35,
   "metadata": {
    "collapsed": false
   },
   "outputs": [
    {
     "name": "stdout",
     "output_type": "stream",
     "text": [
      "hellohello\n",
      "helloworld helloworld helloworld helloworld helloworld \n"
     ]
    }
   ],
   "source": [
    "def function(message, times = 2):\n",
    "    print(message * times)\n",
    "function('hello')\n",
    "function(\"helloworld \",5)"
   ]
  },
  {
   "cell_type": "markdown",
   "metadata": {},
   "source": [
    "## 思考与练习"
   ]
  },
  {
   "cell_type": "markdown",
   "metadata": {},
   "source": [
    "* 1.编写Python代码实现列表和字典元素的遍历输出"
   ]
  },
  {
   "cell_type": "markdown",
   "metadata": {},
   "source": [
    "#### 1.1列表的遍历"
   ]
  },
  {
   "cell_type": "code",
   "execution_count": 36,
   "metadata": {
    "collapsed": true
   },
   "outputs": [],
   "source": [
    "list = ['html', 'js', 'css', 'python']  "
   ]
  },
  {
   "cell_type": "code",
   "execution_count": 37,
   "metadata": {
    "collapsed": false
   },
   "outputs": [
    {
     "name": "stdout",
     "output_type": "stream",
     "text": [
      "序号：1   值：html\n",
      "序号：2   值：js\n",
      "序号：3   值：css\n",
      "序号：4   值：python\n"
     ]
    }
   ],
   "source": [
    "# 方法1\n",
    "for i in list:\n",
    "    print (\"序号：%s   值：%s\" % (list.index(i) + 1, i))"
   ]
  },
  {
   "cell_type": "code",
   "execution_count": 38,
   "metadata": {
    "collapsed": false
   },
   "outputs": [
    {
     "name": "stdout",
     "output_type": "stream",
     "text": [
      "序号：1   值：html\n",
      "序号：2   值：js\n",
      "序号：3   值：css\n",
      "序号：4   值：python\n"
     ]
    }
   ],
   "source": [
    "# 方法2\n",
    "for i in range(len(list)):\n",
    "    print (\"序号：%s   值：%s\" % (i + 1, list[i]))"
   ]
  },
  {
   "cell_type": "code",
   "execution_count": 39,
   "metadata": {
    "collapsed": false
   },
   "outputs": [
    {
     "name": "stdout",
     "output_type": "stream",
     "text": [
      "序号：1   值：html\n",
      "序号：2   值：js\n",
      "序号：3   值：css\n",
      "序号：4   值：python\n"
     ]
    }
   ],
   "source": [
    "# 方法3\n",
    "# enumerate() 函数用于将一个可遍历的数据对象(如列表、元组或字符串)组合为一个索引序列，同时列出数据和数据下标，一般用在 for 循环当中。\n",
    "for i, val in enumerate(list):\n",
    "    print (\"序号：%s   值：%s\" % (i + 1, val))"
   ]
  },
  {
   "cell_type": "code",
   "execution_count": 40,
   "metadata": {
    "collapsed": false
   },
   "outputs": [
    {
     "name": "stdout",
     "output_type": "stream",
     "text": [
      "序号：3   值：html\n",
      "序号：4   值：js\n",
      "序号：5   值：css\n",
      "序号：6   值：python\n"
     ]
    }
   ],
   "source": [
    "# 方法3\n",
    "# Python 2.3. 以上版本可用，2.6 添加 start 参数, start -- 下标起始位置。\n",
    "for i, val in enumerate(list, 2):\n",
    "    print (\"序号：%s   值：%s\" % (i + 1, val))"
   ]
  },
  {
   "cell_type": "markdown",
   "metadata": {},
   "source": [
    "#### 1.2 字典的遍历"
   ]
  },
  {
   "cell_type": "code",
   "execution_count": 41,
   "metadata": {
    "collapsed": true
   },
   "outputs": [],
   "source": [
    "myDict = {\"C\":98.2, \"C++\":98.4, \"Java\":97.5, \"Python\":99.5}"
   ]
  },
  {
   "cell_type": "code",
   "execution_count": 42,
   "metadata": {
    "collapsed": false
   },
   "outputs": [
    {
     "name": "stdout",
     "output_type": "stream",
     "text": [
      "Python: 99.5\n",
      "C++: 98.4\n",
      "C: 98.2\n",
      "Java: 97.5\n",
      "Python: 99.5\n",
      "C++: 98.4\n",
      "C: 98.2\n",
      "Java: 97.5\n"
     ]
    }
   ],
   "source": [
    "# 1.按照key遍历\n",
    "for key in myDict:\n",
    "    print(key + \": \" +  str(myDict[key]) )\n",
    "    \n",
    "for key in myDict.keys():\n",
    "    print(key + \": \" + str(myDict[key]))"
   ]
  },
  {
   "cell_type": "code",
   "execution_count": 43,
   "metadata": {
    "collapsed": false
   },
   "outputs": [
    {
     "name": "stdout",
     "output_type": "stream",
     "text": [
      "99.5\n",
      "98.4\n",
      "98.2\n",
      "97.5\n"
     ]
    }
   ],
   "source": [
    "# 2.按照value遍历\n",
    "for value in myDict.values():\n",
    "    print(value)"
   ]
  },
  {
   "cell_type": "code",
   "execution_count": 44,
   "metadata": {
    "collapsed": false
   },
   "outputs": [
    {
     "name": "stdout",
     "output_type": "stream",
     "text": [
      "Python:99.5\n",
      "C++:98.4\n",
      "C:98.2\n",
      "Java:97.5\n"
     ]
    }
   ],
   "source": [
    "# 3.按照item遍历\n",
    "for item in myDict.items():\n",
    "    print(item[0] + \":\" + str(item[1]))"
   ]
  },
  {
   "cell_type": "code",
   "execution_count": 45,
   "metadata": {
    "collapsed": false
   },
   "outputs": [
    {
     "name": "stdout",
     "output_type": "stream",
     "text": [
      "Python: 99.5\n",
      "C++: 98.4\n",
      "C: 98.2\n",
      "Java: 97.5\n"
     ]
    }
   ],
   "source": [
    "# 4.按照key-value对遍历\n",
    "for key,value in myDict.items():\n",
    "    print(key + \": \" + str(value))"
   ]
  },
  {
   "cell_type": "code",
   "execution_count": 46,
   "metadata": {
    "collapsed": false,
    "scrolled": true
   },
   "outputs": [
    {
     "name": "stdout",
     "output_type": "stream",
     "text": [
      "Python: 99.5\n",
      "C++: 98.4\n",
      "C: 98.2\n",
      "Java: 97.5\n"
     ]
    }
   ],
   "source": [
    "# 5.还可以先用sorted排序再遍历，这里按照value排序，默认的reverse=False按升序排序\n",
    "sort_list = sorted(myDict.items(),key=lambda x:x[1],reverse=True)\n",
    "# key=lambda x:x[1],其中x[1] = key,  x[2] = value\n",
    "for item in sort_list:\n",
    "    print(item[0] + \": \" + str(item[1])) "
   ]
  },
  {
   "cell_type": "markdown",
   "metadata": {},
   "source": [
    "## 综合练习题"
   ]
  },
  {
   "cell_type": "markdown",
   "metadata": {},
   "source": [
    "#### 2. 编写Python程序实现功能：从键盘输入若干同学的姓名，保存在字符串列表中。输入某个同学的名字，检索是否已保存列表中。"
   ]
  },
  {
   "cell_type": "code",
   "execution_count": 50,
   "metadata": {
    "collapsed": false
   },
   "outputs": [
    {
     "name": "stdout",
     "output_type": "stream",
     "text": [
      "Enter the names of several students from the keyboard:毕海涛 熊智贤 何畅 陈博 杨永生\n",
      "please input a classmate's name: 张三\n",
      "Not saved\n"
     ]
    }
   ],
   "source": [
    "name_list0 = input(\"Enter the names of several students from the keyboard:\")\n",
    "name_list=name_list0.split(' ')\n",
    "name_input = input(\"please input a classmate's name: \")\n",
    "if name_input in name_list:\n",
    "    print(\"Has been saved\")\n",
    "else:\n",
    "    print(\"Not saved\")"
   ]
  },
  {
   "cell_type": "markdown",
   "metadata": {},
   "source": [
    "#### 3. 编写Python程序实现功能：使用字典记录同学的姓名及对应身高，输入任意同学的姓名，查找并显示所有高于此身高的同学信息。"
   ]
  },
  {
   "cell_type": "code",
   "execution_count": 49,
   "metadata": {
    "collapsed": false
   },
   "outputs": [
    {
     "name": "stdout",
     "output_type": "stream",
     "text": [
      "Enter the name of any student: 熊智贤\n",
      "毕海涛 180\n",
      "杨永生 178\n"
     ]
    }
   ],
   "source": [
    "classmate_Dict ={\"毕海涛\" : 180, \"杨永生\" : 178, \"熊智贤\" : 175, \"何畅\" : 172}\n",
    "name = input(\"Enter the name of any student: \")\n",
    "for key,value in classmate_Dict.items():\n",
    "    if value > classmate_Dict[name]:\n",
    "        print(key, value)"
   ]
  }
 ],
 "metadata": {
  "anaconda-cloud": {},
  "kernelspec": {
   "display_name": "Python [conda root]",
   "language": "python",
   "name": "conda-root-py"
  },
  "language_info": {
   "codemirror_mode": {
    "name": "ipython",
    "version": 3
   },
   "file_extension": ".py",
   "mimetype": "text/x-python",
   "name": "python",
   "nbconvert_exporter": "python",
   "pygments_lexer": "ipython3",
   "version": "3.5.2"
  }
 },
 "nbformat": 4,
 "nbformat_minor": 1
}
